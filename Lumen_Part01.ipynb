{
  "nbformat": 4,
  "nbformat_minor": 0,
  "metadata": {
    "colab": {
      "provenance": []
    },
    "kernelspec": {
      "name": "python3",
      "display_name": "Python 3"
    },
    "language_info": {
      "name": "python"
    }
  },
  "cells": [
    {
      "cell_type": "code",
      "execution_count": 1,
      "metadata": {
        "colab": {
          "base_uri": "https://localhost:8080/"
        },
        "id": "BOYQdAjntw2I",
        "outputId": "c498488e-47d1-43b5-985b-8c3afaee689f"
      },
      "outputs": [
        {
          "output_type": "stream",
          "name": "stdout",
          "text": [
            "   subscription_id  User Id  product_id   avg_spend  recommended_plan_id\n",
            "0                1       61          46  275.090000                 50.0\n",
            "1                2       37          35    0.000000                 83.0\n",
            "2                3       24          96   73.470000                 12.0\n",
            "3                4       69          79  319.475000                 50.0\n",
            "4                5        3          52  279.786667                 50.0\n",
            "5                6       86          33  407.490000                 50.0\n",
            "6                7       45          31   46.860000                 82.0\n",
            "7                8       28          17  136.460000                 50.0\n",
            "8                9       97          14    0.000000                 83.0\n",
            "9               10       26          63  372.936667                 50.0\n"
          ]
        }
      ],
      "source": [
        "import pandas as pd\n",
        "file_path = \"SubscriptionUseCase_Dataset.xlsx\"\n",
        "subs = pd.read_excel(file_path, sheet_name=\"Subscriptions\")\n",
        "plans = pd.read_excel(file_path, sheet_name=\"Subscription_Plans\")\n",
        "billing = pd.read_excel(file_path, sheet_name=\"Billing_Information\")\n",
        "#Step 1: Average spend per subscription\n",
        "avg_spend = billing.groupby(\"subscription_id\")[\"amount\"].mean().reset_index(name=\"avg_spend\")\n",
        "# --- Step 2: Merge with subscriptions and plans ---\n",
        "subs_small = subs[[\"Subscription Id\", \"User Id\", \"Product Id\"]].rename(\n",
        "    columns={\"Subscription Id\":\"subscription_id\", \"Product Id\":\"product_id\"}\n",
        ")\n",
        "plans_small = plans[[\"Product Id\", \"Price\"]].rename(\n",
        "    columns={\"Product Id\":\"product_id\", \"Price\":\"plan_price\"}\n",
        ")\n",
        "\n",
        "df = subs_small.merge(avg_spend, on=\"subscription_id\", how=\"left\") \\\n",
        "               .merge(plans_small, on=\"product_id\", how=\"left\")\n",
        "\n",
        "df[\"avg_spend\"] = df[\"avg_spend\"].fillna(0)\n",
        "\n",
        "# --- Step 3: Recommendation function ---\n",
        "plans_sorted = plans_small.drop_duplicates().sort_values(\"plan_price\")\n",
        "\n",
        "def recommend_plan(avg_amount):\n",
        "    candidates = plans_sorted[plans_sorted[\"plan_price\"] >= avg_amount]\n",
        "    if not candidates.empty:\n",
        "        return candidates.iloc[0][\"product_id\"]\n",
        "    else:\n",
        "        return plans_sorted.iloc[-1][\"product_id\"]\n",
        "\n",
        "df[\"recommended_plan_id\"] = df[\"avg_spend\"].apply(recommend_plan)\n",
        "recommendations = df[[\"subscription_id\", \"User Id\", \"product_id\", \"avg_spend\", \"recommended_plan_id\"]]\n",
        "\n",
        "print(recommendations.head(10))\n"
      ]
    },
    {
      "cell_type": "code",
      "source": [
        "import pandas as pd\n",
        "from sklearn.model_selection import train_test_split\n",
        "from sklearn.linear_model import LogisticRegression\n",
        "file_path = \"SubscriptionUseCase_Dataset.xlsx\"\n",
        "subs = pd.read_excel(file_path, sheet_name=\"Subscriptions\")\n",
        "billing = pd.read_excel(file_path, sheet_name=\"Billing_Information\")\n",
        "# --- Step 1: Feature Engineering ---\n",
        "renewal_count = billing[billing[\"payment_status\"]==\"paid\"].groupby(\"subscription_id\").size().reset_index(name=\"renewal_count\")\n",
        "avg_spend = billing.groupby(\"subscription_id\")[\"amount\"].mean().reset_index(name=\"avg_spend\")\n",
        "last_billed = billing.groupby(\"subscription_id\")[\"billing_date\"].max().reset_index(name=\"last_billed\")\n",
        "subs_small = subs[[\"Subscription Id\", \"User Id\", \"Start Date\", \"Terminated Date\", \"Status\"]] \\\n",
        "              .rename(columns={\"Subscription Id\":\"subscription_id\"})\n",
        "\n",
        "df = subs_small.merge(renewal_count, on=\"subscription_id\", how=\"left\") \\\n",
        "               .merge(avg_spend, on=\"subscription_id\", how=\"left\") \\\n",
        "               .merge(last_billed, on=\"subscription_id\", how=\"left\")\n",
        "\n",
        "df[[\"renewal_count\",\"avg_spend\"]] = df[[\"renewal_count\",\"avg_spend\"]].fillna(0)\n",
        "today = pd.to_datetime(\"2025-09-13\")\n",
        "df[\"Start Date\"] = pd.to_datetime(df[\"Start Date\"], errors=\"coerce\")\n",
        "df[\"Terminated Date\"] = pd.to_datetime(df[\"Terminated Date\"], errors=\"coerce\")\n",
        "df[\"end_date\"] = df[\"Terminated Date\"].fillna(df[\"last_billed\"]).fillna(today)\n",
        "df[\"duration_days\"] = (df[\"end_date\"] - df[\"Start Date\"]).dt.days.clip(lower=0).fillna(0)\n",
        "\n",
        "# --- Step 2: Labels ---\n",
        "# Assume: active = Renew, otherwise = Churn\n",
        "df[\"label\"] = df[\"Status\"].str.lower().apply(lambda x: \"Renew\" if x==\"active\" else \"Churn\")\n",
        "\n",
        "# --- Step 3: Train Logistic Regression ---\n",
        "X = df[[\"renewal_count\",\"avg_spend\",\"duration_days\"]]\n",
        "y = (df[\"label\"]==\"Renew\").astype(int)\n",
        "\n",
        "X_train, X_test, y_train, y_test = train_test_split(X, y, test_size=0.25, random_state=42, stratify=y)\n",
        "\n",
        "model = LogisticRegression(max_iter=1000)\n",
        "model.fit(X_train, y_train)\n",
        "\n",
        "# --- Step 4: Predictions ---\n",
        "df[\"predicted\"] = model.predict(X)\n",
        "df[\"predicted\"] = df[\"predicted\"].map({1:\"Renew\", 0:\"Churn\"})\n",
        "\n",
        "# --- Step 5: Output ---\n",
        "result = df[[\"subscription_id\",\"User Id\",\"renewal_count\",\"avg_spend\",\"duration_days\",\"predicted\"]]\n",
        "print(result.head(10))\n"
      ],
      "metadata": {
        "colab": {
          "base_uri": "https://localhost:8080/"
        },
        "id": "05D5u0brt9px",
        "outputId": "9eddf1d1-b1dc-4c6f-d874-1ff984d4d01b"
      },
      "execution_count": 2,
      "outputs": [
        {
          "output_type": "stream",
          "name": "stdout",
          "text": [
            "   subscription_id  User Id  renewal_count   avg_spend  duration_days  \\\n",
            "0                1       61            0.0  275.090000             86   \n",
            "1                2       37            0.0    0.000000            385   \n",
            "2                3       24            0.0   73.470000             39   \n",
            "3                4       69            0.0  319.475000              9   \n",
            "4                5        3            3.0  279.786667            109   \n",
            "5                6       86            1.0  407.490000             44   \n",
            "6                7       45            1.0   46.860000            176   \n",
            "7                8       28            1.0  136.460000             12   \n",
            "8                9       97            0.0    0.000000            529   \n",
            "9               10       26            1.0  372.936667            224   \n",
            "\n",
            "  predicted  \n",
            "0     Churn  \n",
            "1     Churn  \n",
            "2     Renew  \n",
            "3     Churn  \n",
            "4     Renew  \n",
            "5     Renew  \n",
            "6     Renew  \n",
            "7     Renew  \n",
            "8     Churn  \n",
            "9     Churn  \n"
          ]
        }
      ]
    },
    {
      "cell_type": "code",
      "source": [],
      "metadata": {
        "id": "GwmHQLvTt-1q"
      },
      "execution_count": null,
      "outputs": []
    }
  ]
}