{
  "nbformat": 4,
  "nbformat_minor": 0,
  "metadata": {
    "colab": {
      "provenance": []
    },
    "kernelspec": {
      "name": "python3",
      "display_name": "Python 3"
    },
    "language_info": {
      "name": "python"
    }
  },
  "cells": [
    {
      "cell_type": "code",
      "source": [
        "import pandas as pd\n",
        "file_path = \"SubscriptionUseCase_Dataset.xlsx\"\n",
        "subs = pd.read_excel(file_path, sheet_name=\"Subscriptions\")\n",
        "plans = pd.read_excel(file_path, sheet_name=\"Subscription_Plans\")\n",
        "billing = pd.read_excel(file_path, sheet_name=\"Billing_Information\")\n",
        "#Step 1: Average spend per subscription\n",
        "avg_spend = billing.groupby(\"subscription_id\")[\"amount\"].mean().reset_index(name=\"avg_spend\")\n",
        "# --- Step 2: Merge with subscriptions and plans ---\n",
        "subs_small = subs[[\"Subscription Id\", \"User Id\", \"Product Id\"]].rename(\n",
        "    columns={\"Subscription Id\":\"subscription_id\", \"Product Id\":\"product_id\"}\n",
        ")\n",
        "plans_small = plans[[\"Product Id\", \"Price\"]].rename(\n",
        "    columns={\"Product Id\":\"product_id\", \"Price\":\"plan_price\"}\n",
        ")\n",
        "\n",
        "df = subs_small.merge(avg_spend, on=\"subscription_id\", how=\"left\") \\\n",
        "               .merge(plans_small, on=\"product_id\", how=\"left\")\n",
        "\n",
        "df[\"avg_spend\"] = df[\"avg_spend\"].fillna(0)\n",
        "\n",
        "# --- Step 3: Recommendation function ---\n",
        "plans_sorted = plans_small.drop_duplicates().sort_values(\"plan_price\")\n",
        "\n",
        "def recommend_plan(avg_amount):\n",
        "    candidates = plans_sorted[plans_sorted[\"plan_price\"] >= avg_amount]\n",
        "    if not candidates.empty:\n",
        "        return candidates.iloc[0][\"product_id\"]\n",
        "    else:\n",
        "        return plans_sorted.iloc[-1][\"product_id\"]\n",
        "\n",
        "df[\"recommended_plan_id\"] = df[\"avg_spend\"].apply(recommend_plan)\n",
        "recommendations = df[[\"subscription_id\", \"User Id\", \"product_id\", \"avg_spend\", \"recommended_plan_id\"]]\n",
        "\n",
        "print(recommendations.head(10))\n"
      ],
      "metadata": {
        "colab": {
          "base_uri": "https://localhost:8080/"
        },
        "id": "STSEQlPsbELS",
        "outputId": "a50dc1a2-efde-4c3a-cdf1-70df3adca775"
      },
      "execution_count": 17,
      "outputs": [
        {
          "output_type": "stream",
          "name": "stdout",
          "text": [
            "   subscription_id  User Id  product_id   avg_spend  recommended_plan_id\n",
            "0                1       61          46  275.090000                 50.0\n",
            "1                2       37          35    0.000000                 83.0\n",
            "2                3       24          96   73.470000                 12.0\n",
            "3                4       69          79  319.475000                 50.0\n",
            "4                5        3          52  279.786667                 50.0\n",
            "5                6       86          33  407.490000                 50.0\n",
            "6                7       45          31   46.860000                 82.0\n",
            "7                8       28          17  136.460000                 50.0\n",
            "8                9       97          14    0.000000                 83.0\n",
            "9               10       26          63  372.936667                 50.0\n"
          ]
        }
      ]
    },
    {
      "cell_type": "markdown",
      "source": [
        "Key Feature : personalized Recommendation\n",
        "The goal is to recommend the best-fit subscription plan\n",
        "for each user based on their historical spending behavior.\n",
        "Algorithm used: A rule-based matching algorithm:\n",
        "If average spend ≤ plan price → recommend the cheapest suitable plan.\n",
        "If spend > all plan prices → recommend the most expensive plan.\n",
        "Output: For each user, we get their current plan, average spend, and a recommended best-fit plan."
      ],
      "metadata": {
        "id": "5Q60WNtUjvIr"
      }
    },
    {
      "cell_type": "code",
      "source": [
        "import pandas as pd\n",
        "from sklearn.model_selection import train_test_split\n",
        "from sklearn.linear_model import LogisticRegression\n",
        "file_path = \"SubscriptionUseCase_Dataset.xlsx\"\n",
        "subs = pd.read_excel(file_path, sheet_name=\"Subscriptions\")\n",
        "billing = pd.read_excel(file_path, sheet_name=\"Billing_Information\")\n",
        "# --- Step 1: Feature Engineering ---\n",
        "renewal_count = billing[billing[\"payment_status\"]==\"paid\"].groupby(\"subscription_id\").size().reset_index(name=\"renewal_count\")\n",
        "avg_spend = billing.groupby(\"subscription_id\")[\"amount\"].mean().reset_index(name=\"avg_spend\")\n",
        "last_billed = billing.groupby(\"subscription_id\")[\"billing_date\"].max().reset_index(name=\"last_billed\")\n",
        "subs_small = subs[[\"Subscription Id\", \"User Id\", \"Start Date\", \"Terminated Date\", \"Status\"]] \\\n",
        "              .rename(columns={\"Subscription Id\":\"subscription_id\"})\n",
        "\n",
        "df = subs_small.merge(renewal_count, on=\"subscription_id\", how=\"left\") \\\n",
        "               .merge(avg_spend, on=\"subscription_id\", how=\"left\") \\\n",
        "               .merge(last_billed, on=\"subscription_id\", how=\"left\")\n",
        "\n",
        "df[[\"renewal_count\",\"avg_spend\"]] = df[[\"renewal_count\",\"avg_spend\"]].fillna(0)\n",
        "today = pd.to_datetime(\"2025-09-13\")\n",
        "df[\"Start Date\"] = pd.to_datetime(df[\"Start Date\"], errors=\"coerce\")\n",
        "df[\"Terminated Date\"] = pd.to_datetime(df[\"Terminated Date\"], errors=\"coerce\")\n",
        "df[\"end_date\"] = df[\"Terminated Date\"].fillna(df[\"last_billed\"]).fillna(today)\n",
        "df[\"duration_days\"] = (df[\"end_date\"] - df[\"Start Date\"]).dt.days.clip(lower=0).fillna(0)\n",
        "\n",
        "# --- Step 2: Labels ---\n",
        "# Assume: active = Renew, otherwise = Churn\n",
        "df[\"label\"] = df[\"Status\"].str.lower().apply(lambda x: \"Renew\" if x==\"active\" else \"Churn\")\n",
        "\n",
        "# --- Step 3: Train Logistic Regression ---\n",
        "X = df[[\"renewal_count\",\"avg_spend\",\"duration_days\"]]\n",
        "y = (df[\"label\"]==\"Renew\").astype(int)\n",
        "\n",
        "X_train, X_test, y_train, y_test = train_test_split(X, y, test_size=0.25, random_state=42, stratify=y)\n",
        "\n",
        "model = LogisticRegression(max_iter=1000)\n",
        "model.fit(X_train, y_train)\n",
        "\n",
        "# --- Step 4: Predictions ---\n",
        "df[\"predicted\"] = model.predict(X)\n",
        "df[\"predicted\"] = df[\"predicted\"].map({1:\"Renew\", 0:\"Churn\"})\n",
        "\n",
        "# --- Step 5: Output ---\n",
        "result = df[[\"subscription_id\",\"User Id\",\"renewal_count\",\"avg_spend\",\"duration_days\",\"predicted\"]]\n",
        "print(result.head(10))\n"
      ],
      "metadata": {
        "colab": {
          "base_uri": "https://localhost:8080/"
        },
        "id": "U5kxa6Wgekv2",
        "outputId": "58c4f637-b344-4b8d-91be-112f3e6da414"
      },
      "execution_count": 11,
      "outputs": [
        {
          "output_type": "stream",
          "name": "stdout",
          "text": [
            "   subscription_id  User Id  renewal_count   avg_spend  duration_days  \\\n",
            "0                1       61            0.0  275.090000             86   \n",
            "1                2       37            0.0    0.000000            385   \n",
            "2                3       24            0.0   73.470000             39   \n",
            "3                4       69            0.0  319.475000              9   \n",
            "4                5        3            3.0  279.786667            109   \n",
            "5                6       86            1.0  407.490000             44   \n",
            "6                7       45            1.0   46.860000            176   \n",
            "7                8       28            1.0  136.460000             12   \n",
            "8                9       97            0.0    0.000000            529   \n",
            "9               10       26            1.0  372.936667            224   \n",
            "\n",
            "  predicted  \n",
            "0     Churn  \n",
            "1     Churn  \n",
            "2     Renew  \n",
            "3     Churn  \n",
            "4     Renew  \n",
            "5     Renew  \n",
            "6     Renew  \n",
            "7     Renew  \n",
            "8     Churn  \n",
            "9     Churn  \n"
          ]
        }
      ]
    },
    {
      "cell_type": "code",
      "source": [
        "Churn Predction:\n",
        "Objective: Predict whether a user will renew their subscription or churn (cancel)\n",
        "Algorithm: Logistic Regression (Supervised Machine Learning)\n",
        "It is a classification algorithm used to predict binary outcomes.\n",
        "output: Churn or Renew"
      ],
      "metadata": {
        "id": "qzZTmybEk5hX"
      },
      "execution_count": null,
      "outputs": []
    },
    {
      "cell_type": "code",
      "source": [
        "import pandas as pd\n",
        "from sklearn.preprocessing import StandardScaler\n",
        "from sklearn.cluster import KMeans\n",
        "file_path = \"SubscriptionUseCase_Dataset.xlsx\"\n",
        "\n",
        "subs = pd.read_excel(file_path, sheet_name=\"Subscriptions\")\n",
        "billing = pd.read_excel(file_path, sheet_name=\"Billing_Information\")\n",
        "\n",
        "# --- Step 1: Feature Engineering ---\n",
        "renewal_count = billing[billing[\"payment_status\"]==\"paid\"].groupby(\"subscription_id\").size().reset_index(name=\"renewal_count\")\n",
        "avg_spend = billing.groupby(\"subscription_id\")[\"amount\"].mean().reset_index(name=\"avg_spend\")\n",
        "last_billed = billing.groupby(\"subscription_id\")[\"billing_date\"].max().reset_index(name=\"last_billed\")\n",
        "subs_small = subs[[\"Subscription Id\",\"User Id\",\"Start Date\",\"Terminated Date\"]].rename(columns={\"Subscription Id\":\"subscription_id\"})\n",
        "\n",
        "df = subs_small.merge(renewal_count, on=\"subscription_id\", how=\"left\") \\\n",
        "               .merge(avg_spend, on=\"subscription_id\", how=\"left\") \\\n",
        "               .merge(last_billed, on=\"subscription_id\", how=\"left\")\n",
        "\n",
        "df[[\"renewal_count\",\"avg_spend\"]] = df[[\"renewal_count\",\"avg_spend\"]].fillna(0)\n",
        "today = pd.to_datetime(\"2025-09-13\")\n",
        "df[\"Start Date\"] = pd.to_datetime(df[\"Start Date\"], errors=\"coerce\")\n",
        "df[\"Terminated Date\"] = pd.to_datetime(df[\"Terminated Date\"], errors=\"coerce\")\n",
        "df[\"end_date\"] = df[\"Terminated Date\"].fillna(df[\"last_billed\"]).fillna(today)\n",
        "df[\"duration_days\"] = (df[\"end_date\"] - df[\"Start Date\"]).dt.days.clip(lower=0).fillna(0)\n",
        "\n",
        "# --- Step 2: Clustering ---\n",
        "features = df[[\"renewal_count\",\"avg_spend\",\"duration_days\"]]\n",
        "\n",
        "scaler = StandardScaler()\n",
        "X_scaled = scaler.fit_transform(features)\n",
        "\n",
        "kmeans = KMeans(n_clusters=3, random_state=42)\n",
        "df[\"cluster\"] = kmeans.fit_predict(X_scaled)\n",
        "\n",
        "# --- Step 3: Label clusters (Heavy/Medium/Light) ---\n",
        "cluster_order = df.groupby(\"cluster\")[\"avg_spend\"].mean().sort_values(ascending=False).index.tolist()\n",
        "label_map = {cluster_order[0]:\"Heavy\", cluster_order[1]:\"Medium\", cluster_order[2]:\"Light\"}\n",
        "df[\"user_segment\"] = df[\"cluster\"].map(label_map)\n",
        "\n",
        "# --- Step 4: Output ---\n",
        "result = df[[\"subscription_id\",\"User Id\",\"renewal_count\",\"avg_spend\",\"duration_days\",\"user_segment\"]]\n",
        "print(result.head(10))\n",
        "\n",
        "# Segment counts\n",
        "print(\"\\nSegment distribution:\")\n",
        "print(result[\"user_segment\"].value_counts())\n"
      ],
      "metadata": {
        "colab": {
          "base_uri": "https://localhost:8080/"
        },
        "id": "lV0zJdlceoBW",
        "outputId": "99cd44a7-074a-4dac-8633-f6ad689c82d9"
      },
      "execution_count": 12,
      "outputs": [
        {
          "output_type": "stream",
          "name": "stdout",
          "text": [
            "   subscription_id  User Id  renewal_count   avg_spend  duration_days  \\\n",
            "0                1       61            0.0  275.090000             86   \n",
            "1                2       37            0.0    0.000000            385   \n",
            "2                3       24            0.0   73.470000             39   \n",
            "3                4       69            0.0  319.475000              9   \n",
            "4                5        3            3.0  279.786667            109   \n",
            "5                6       86            1.0  407.490000             44   \n",
            "6                7       45            1.0   46.860000            176   \n",
            "7                8       28            1.0  136.460000             12   \n",
            "8                9       97            0.0    0.000000            529   \n",
            "9               10       26            1.0  372.936667            224   \n",
            "\n",
            "  user_segment  \n",
            "0       Medium  \n",
            "1        Light  \n",
            "2       Medium  \n",
            "3       Medium  \n",
            "4        Heavy  \n",
            "5       Medium  \n",
            "6       Medium  \n",
            "7       Medium  \n",
            "8        Light  \n",
            "9       Medium  \n",
            "\n",
            "Segment distribution:\n",
            "user_segment\n",
            "Medium    61\n",
            "Light     37\n",
            "Heavy      2\n",
            "Name: count, dtype: int64\n"
          ]
        }
      ]
    },
    {
      "cell_type": "code",
      "source": [
        "Customer Prediction:\n",
        "Objective: Group users into Heavy, Medium, and Light subscribers based on renewal count, average spend, and subscription duration.\n",
        "Algorithm Used: K-Means Clustering – an unsupervised machine learning algorithm that groups similar users together.\n",
        "Output: Heavy, Medium, Light"
      ],
      "metadata": {
        "id": "5DX-TxHTlY_F"
      },
      "execution_count": null,
      "outputs": []
    },
    {
      "cell_type": "code",
      "source": [
        "import pandas as pd\n",
        "from prophet import Prophet\n",
        "import matplotlib.pyplot as plt\n",
        "file_path = \"SubscriptionUseCase_Dataset.xlsx\"\n",
        "subs = pd.read_excel(file_path, sheet_name=\"Subscriptions\")\n",
        "\n",
        "# --- Step 1: Prepare data (use ME instead of M) ---\n",
        "subs[\"Start Date\"] = pd.to_datetime(subs[\"Start Date\"], errors=\"coerce\")\n",
        "subs[\"Terminated Date\"] = pd.to_datetime(subs[\"Terminated Date\"], errors=\"coerce\")\n",
        "\n",
        "date_range = pd.date_range(subs[\"Start Date\"].min(), subs[\"Start Date\"].max(), freq=\"ME\")\n",
        "time_series = []\n",
        "\n",
        "for d in date_range:\n",
        "    active_count = ((subs[\"Start Date\"] <= d) & ((subs[\"Terminated Date\"].isna()) | (subs[\"Terminated Date\"] >= d))).sum()\n",
        "    time_series.append([d, active_count])\n",
        "\n",
        "df = pd.DataFrame(time_series, columns=[\"ds\",\"y\"])\n",
        "\n",
        "# --- Step 2: Forecast using Prophet (with yearly seasonality) ---\n",
        "model = Prophet(yearly_seasonality=True, weekly_seasonality=False, daily_seasonality=False)\n",
        "model.fit(df)\n",
        "\n",
        "future = model.make_future_dataframe(periods=12, freq=\"ME\")  # forecast next 12 months\n",
        "forecast = model.predict(future)\n",
        "\n",
        "# --- Step 3: Plot forecast ---\n",
        "fig1 = model.plot(forecast)\n",
        "plt.title(\"Forecast of Active Subscriptions (Plan Demand)\")\n",
        "plt.show()\n",
        "\n",
        "# --- Step 4: Output forecast values ---\n",
        "print(forecast[[\"ds\",\"yhat\",\"yhat_lower\",\"yhat_upper\"]].tail(12))\n"
      ],
      "metadata": {
        "colab": {
          "base_uri": "https://localhost:8080/",
          "height": 1000
        },
        "id": "h2VmFSo5iriF",
        "outputId": "ceb59255-035d-4764-f906-8dcdfa77adaf"
      },
      "execution_count": 16,
      "outputs": [
        {
          "output_type": "stream",
          "name": "stderr",
          "text": [
            "INFO:prophet:n_changepoints greater than number of observations. Using 7.\n",
            "DEBUG:cmdstanpy:input tempfile: /tmp/tmpnewempi3/8_kxo0l8.json\n",
            "DEBUG:cmdstanpy:input tempfile: /tmp/tmpnewempi3/qrsfmab6.json\n",
            "DEBUG:cmdstanpy:idx 0\n",
            "DEBUG:cmdstanpy:running CmdStan, num_threads: None\n",
            "DEBUG:cmdstanpy:CmdStan args: ['/usr/local/lib/python3.12/dist-packages/prophet/stan_model/prophet_model.bin', 'random', 'seed=57761', 'data', 'file=/tmp/tmpnewempi3/8_kxo0l8.json', 'init=/tmp/tmpnewempi3/qrsfmab6.json', 'output', 'file=/tmp/tmpnewempi3/prophet_modelnrl7s4_q/prophet_model-20250913053112.csv', 'method=optimize', 'algorithm=newton', 'iter=10000']\n",
            "05:31:12 - cmdstanpy - INFO - Chain [1] start processing\n",
            "INFO:cmdstanpy:Chain [1] start processing\n",
            "05:31:13 - cmdstanpy - INFO - Chain [1] done processing\n",
            "INFO:cmdstanpy:Chain [1] done processing\n"
          ]
        },
        {
          "output_type": "display_data",
          "data": {
            "text/plain": [
              "<Figure size 1000x600 with 1 Axes>"
            ],
            "image/png": "[encoded data removed]"
          },
          "metadata": {}
        },
        {
          "output_type": "stream",
          "name": "stdout",
          "text": [
            "           ds         yhat   yhat_lower   yhat_upper\n",
            "11 2024-11-30  1578.121816  1578.121816  1578.121816\n",
            "12 2024-12-31   115.154862   115.154861   115.154862\n",
            "13 2025-01-31    73.796136    73.796135    73.796136\n",
            "14 2025-02-28   139.650157   139.650156   139.650157\n",
            "15 2025-03-31   110.389218   110.389217   110.389220\n",
            "16 2025-04-30   160.756966   160.756964   160.756968\n",
            "17 2025-05-31   149.073605   149.073603   149.073607\n",
            "18 2025-06-30   195.474950   195.474947   195.474953\n",
            "19 2025-07-31   172.997759   172.997756   172.997763\n",
            "20 2025-08-31   196.425043   196.425040   196.425047\n",
            "21 2025-09-30   181.726823   181.726819   181.726827\n",
            "22 2025-10-31   185.130680   185.130676   185.130686\n"
          ]
        }
      ]
    },
    {
      "cell_type": "markdown",
      "source": [
        "Forecasting Subsricption:\n",
        "Objective:To forecast future subscription demand (active subscribers per month) based on historical subscription\n",
        "start and termination data\n",
        "**Algorithm:** Facebook Prophet – a time series forecasting algorithm that automatically models trend + seasonality + holidays.\n",
        "It is robust to missing data and handles yearly seasonality effectively.\n",
        "**Output:** The table shows the forecasted number of active subscriptions (yhat) for the next 12 months, representing the expected plan demand trend"
      ],
      "metadata": {
        "id": "t8byMOmbmBaI"
      }
    },
    {
      "cell_type": "code",
      "source": [],
      "metadata": {
        "id": "UwlhRuX0i77K"
      },
      "execution_count": null,
      "outputs": []
    }
  ]
}